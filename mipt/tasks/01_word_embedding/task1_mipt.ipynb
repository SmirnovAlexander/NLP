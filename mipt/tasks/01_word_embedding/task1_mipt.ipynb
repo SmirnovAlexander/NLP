{
 "cells": [
  {
   "cell_type": "markdown",
   "metadata": {},
   "source": [
    "# Практическое задание 1\n",
    "\n",
    "# Ранжирование вопросов StackOverflow с помощью векторных представлений слов\n",
    "\n",
    "## курс \"Математические методы анализа текстов\"\n",
    "\n",
    "\n",
    "### ФИО: Смирнов Александр Львович\n",
    "\n",
    "## Внимание! Эта версия задания для тех, кто посещает курс в МФТИ."
   ]
  },
  {
   "cell_type": "markdown",
   "metadata": {},
   "source": [
    "## Введение\n",
    "\n",
    "В этом задании вы научитесь вычислять близость текстов и применить этот метод для поиска похожих вопросов на [StackOverflow](https://stackoverflow.com).\n",
    "\n",
    "### Используемые библиотеки\n",
    "\n",
    "В данном задании потребуются следующие библиотеки:\n",
    "- [Gensim](https://radimrehurek.com/gensim/) — инструмент для решения различных задач NLP (тематическое моделирование, представление текстов, ...).\n",
    "- [Numpy](http://www.numpy.org) — библиотека для научных вычислений.\n",
    "- [scikit-learn](http://scikit-learn.org/stable/index.html) — библилиотека с многими реализованными алгоритмами машинного обучения для анализа данных.\n",
    "- [Nltk](http://www.nltk.org) — инструмент для работы с естественными языками.\n",
    "- [Pytorch](https://pytorch.org/) — инструмент для обучения нейросетей.\n",
    "\n",
    "\n",
    "### Данные\n",
    "\n",
    "Данные лежат в архиве `StackOverflowData.zip`, который состоит из:\n",
    "- `train.tsv` - обучающая выборка. В каждой строке через табуляцию записаны дублирующие друг друга предложения;\n",
    "- `test.tsv` - тестовая выборка. В каждой строке через табуляцию записаны: *<вопрос>, <похожий вопрос>, <отрицательный пример 1>, <отрицательный пример 2>, ...*\n",
    "\n",
    "Скачать архив можно здесь: [ссылка на google диск](https://drive.google.com/open?id=1QqT4D0EoqJTy7v9VrNCYD-m964XZFR7_)"
   ]
  },
  {
   "cell_type": "markdown",
   "metadata": {},
   "source": [
    "#### Тесты"
   ]
  },
  {
   "cell_type": "code",
   "execution_count": 1,
   "metadata": {},
   "outputs": [],
   "source": [
    "from tests import TaskTests\n",
    "\n",
    "task_tests = TaskTests.from_json(path='test_gt.json')"
   ]
  },
  {
   "cell_type": "markdown",
   "metadata": {},
   "source": [
    "### Вектора слов\n",
    "\n",
    "Для решения вам потребуются предобученная модель векторных представлений слов. Используйте [модель эмбеддингов](https://drive.google.com/file/d/0B7XkCwpI5KDYNlNUTTlSS21pQmM/edit), которая была обучена с помощью пакета word2vec на данных Google News (100 миллиардов слов). Модель содержит 300-мерные вектора для 3 миллионов слов и фраз. Вы можете скачать их, запустив блок кода ниже."
   ]
  },
  {
   "cell_type": "raw",
   "metadata": {},
   "source": [
    "from download_utils import download_google_vectors\n",
    "\n",
    "\n",
    "download_google_vectors(target_dir='.')"
   ]
  },
  {
   "cell_type": "markdown",
   "metadata": {},
   "source": [
    "## Часть 1. Предобученные векторные представления слов (2 балла)\n",
    "\n",
    "Скачайте предобученные вектора и загрузите их с помощью функции [KeyedVectors.load_word2vec_format](https://radimrehurek.com/gensim/models/keyedvectors.html) библиотеки Gensim с параметром *binary=True*. Если суммарный размер векторов больше, чем доступная память, то вы можете загрузите только часть векторов, указав параметр *limit* (рекомендуемое значение: 500000)."
   ]
  },
  {
   "cell_type": "code",
   "execution_count": 2,
   "metadata": {},
   "outputs": [],
   "source": [
    "import gensim\n",
    "\n",
    "\n",
    "wv_embeddings = gensim.models.KeyedVectors.load_word2vec_format(\n",
    "    'GoogleNews-vectors-negative300.bin.gz', binary=True, limit=500000,\n",
    ")"
   ]
  },
  {
   "cell_type": "markdown",
   "metadata": {},
   "source": [
    "### Как пользоваться этими векторами?\n",
    "\n",
    "Как только вы загрузите векторные представления слов в память, убедитесь, что имеете к ним доступ. Сначала вы можете проверить, содержится ли какое-то слово в загруженных эмбедингах:\n",
    "\n",
    "    'word' in wv_embeddings\n",
    "\n",
    "Затем, чтобы получить соответствующий вектор, вы можете использовать оператор доступа по ключу:\n",
    "\n",
    "    wv_embeddings['word']\n",
    "\n",
    "### Проверим, корректны ли векторные представления\n",
    "\n",
    "Чтобы предотвратить возможные ошибки во время первого этапа, можно проверить, что загруженные вектора корректны. Для этого проверьте три пункта:\n",
    "1. Используя метод `.most_similar(positive=..., negative=...)`, найти слово, похожее на `woman`, `king` и непохожее на `man`.\n",
    "2. Используя метод `.doesnt_match(...)`, найти \"белую ворону\" в списке `['breakfast, 'dinner', 'lunch', 'cereal']`.\n",
    "3. Используя метод `.most_similar_to_given(word, [...])`, найти наиболее похожее на `music` слово из списка `['water', 'sound', 'backpack', 'mouse']`.\n",
    "\n",
    "Прокомментируйте полученные результаты: считаете ли вы их верными и почему."
   ]
  },
  {
   "cell_type": "code",
   "execution_count": 3,
   "metadata": {},
   "outputs": [
    {
     "name": "stdout",
     "output_type": "stream",
     "text": [
      "is 'kek' exists in embeddings: False\n",
      "\n",
      "is 'lord' exists in embeddings: True\n",
      "\n",
      "words like ['woman', 'king'] and opposite to ['man']:\n",
      "[('queen', 0.7118193507194519), ('monarch', 0.6189674139022827), ('princess', 0.5902431011199951)]\n",
      "\n",
      "black sheep word in a ['breakfast', 'dinner', 'lunch', 'cereal'] list:\n",
      "cereal\n",
      "\n",
      "most similar word to 'music' from ['water', 'sound', 'backpack', 'mouse'] list:\n",
      "sound\n"
     ]
    }
   ],
   "source": [
    "word = \"kek\"\n",
    "print(f\"is '{word}' exists in embeddings: {word in wv_embeddings}\\n\")\n",
    "word = \"lord\"\n",
    "print(f\"is '{word}' exists in embeddings: {word in wv_embeddings}\\n\")\n",
    "\n",
    "positive = [\"woman\", \"king\"]\n",
    "negative = [\"man\"]\n",
    "print(f\"words like {positive} and opposite to {negative}:\\n{wv_embeddings.most_similar(positive=positive, negative=negative)[:3]}\\n\")\n",
    "\n",
    "black_sheep = ['breakfast', 'dinner', 'lunch', 'cereal']\n",
    "print(f\"black sheep word in a {black_sheep} list:\\n{wv_embeddings.doesnt_match(black_sheep)}\\n\")\n",
    "\n",
    "word = \"music\"\n",
    "candidates = ['water', 'sound', 'backpack', 'mouse']\n",
    "print(f\"most similar word to '{word}' from {candidates} list:\\n{wv_embeddings.most_similar_to_given(word, candidates)}\")"
   ]
  },
  {
   "cell_type": "markdown",
   "metadata": {},
   "source": [
    "Загруженные вектора корректны, так как действительно отражают семантические связи слов."
   ]
  },
  {
   "cell_type": "markdown",
   "metadata": {},
   "source": [
    "### Ранжирование вопросов StackOverflow\n",
    "\n",
    "Давайте посмотрим на данные, которые мы будем использовать в рамках задания. Выборка уже разбита на обучающую и тестовую. Все файлы используют табуляцию в качестве разделителя, но они имеют разный формат:\n",
    "\n",
    "- *обучающая* выборка (train.tsv) содержит похожие друг на друга предложения в каждой строке;\n",
    "- *тестовая* выборка (validation.tsv) содержит в каждой строке: *вопрос, похожий вопрос, отрицательный пример 1, отрицательный пример 2, ...*\n",
    "\n",
    "Считайте тестовую (валидационную) выборку. Ответьте на следующие вопросы:\n",
    "1. Сколько пар-дубликатов предоставлено в выборке?\n",
    "2. Сколько в среднем на каждую пару предоставлено отрицательных примеров?"
   ]
  },
  {
   "cell_type": "code",
   "execution_count": 4,
   "metadata": {},
   "outputs": [],
   "source": [
    "import tqdm\n",
    "\n",
    "\n",
    "def read_corpus(filename):\n",
    "    data = []\n",
    "    for line in open(filename, encoding='utf-8'):\n",
    "        data.append(line.strip().split('\\t'))\n",
    "    return data\n",
    "\n",
    "validation = read_corpus('data/validation.tsv')"
   ]
  },
  {
   "cell_type": "code",
   "execution_count": 5,
   "metadata": {},
   "outputs": [],
   "source": [
    "import numpy as np\n",
    "\n",
    "num_samples = len(validation)\n",
    "amount_of_negatives_per_sample = np.mean(list(map(len, validation))) - 2"
   ]
  },
  {
   "cell_type": "code",
   "execution_count": 6,
   "metadata": {},
   "outputs": [],
   "source": [
    "task_tests.test_validation_corpus(\n",
    "    num_samples,\n",
    "    amount_of_negatives_per_sample\n",
    ")"
   ]
  },
  {
   "cell_type": "markdown",
   "metadata": {},
   "source": [
    "### Векторные представления текста\n",
    "\n",
    "Чтобы перейти от отдельных слов к векторным представлениям вопросов, предлагается подсчитать **среднее** векторов всех слов в вопросе. Если для какого-то слова нет предобученного вектоора, то его нужно пропустить. Если вопрос не содержит ни одного известного слова, то нужно вернуть нулевой вектор.\n",
    "\n"
   ]
  },
  {
   "cell_type": "code",
   "execution_count": 7,
   "metadata": {},
   "outputs": [],
   "source": [
    "import numpy as np\n",
    "from nltk.tokenize import WordPunctTokenizer\n",
    "from numpy.linalg import norm\n",
    "from sklearn.preprocessing import StandardScaler\n",
    "\n",
    "class Embedder:\n",
    "    \n",
    "    def __init__(self, embeddings, dim):\n",
    "        \"\"\"\n",
    "            embeddings: word2vec эмбеддинги\n",
    "            dim: размерность word2vec эмбеддингов. Нужна для задания нулего вектора для пустых вопросов\n",
    "        \"\"\"\n",
    "        self.embeddings = embeddings\n",
    "        self.dim = dim\n",
    "        self.tokenizer = WordPunctTokenizer()\n",
    "        self.scaler = StandardScaler()\n",
    "        \n",
    "    def __call__(self, text, normalize=False):\n",
    "        \"\"\"\n",
    "            Принимает на вход текст и преобразует его в вектор.\n",
    "            \n",
    "            text: строка с вопросом\n",
    "            normalize: при True нужно перед возвращением нормализовать вектор\n",
    "            \n",
    "            returns: вектор вопроса\n",
    "        \"\"\"\n",
    "        vector = np.zeros(self.dim)\n",
    "    \n",
    "        #text_tokenized = self.tokenizer.tokenize(text.lower())\n",
    "        text_tokenized = text.split(\" \")\n",
    "        phrase_vectors = [self.embeddings[word] for word in text_tokenized if word in self.embeddings]\n",
    "        \n",
    "        if phrase_vectors:\n",
    "            vector = np.mean(phrase_vectors, axis=0)\n",
    "        \n",
    "        if normalize:\n",
    "            vector = self.scaler.fit_transform(vector.reshape(-1, 1))\n",
    "        \n",
    "        return vector.reshape(1, -1)"
   ]
  },
  {
   "cell_type": "code",
   "execution_count": 8,
   "metadata": {},
   "outputs": [],
   "source": [
    "embedder = Embedder(wv_embeddings, dim=300)"
   ]
  },
  {
   "cell_type": "code",
   "execution_count": 9,
   "metadata": {},
   "outputs": [],
   "source": [
    "task_tests.test_embedder(embedder)"
   ]
  },
  {
   "cell_type": "markdown",
   "metadata": {},
   "source": [
    "Теперь у нас есть метод для создания векторного представления любого предложения. Оценим, как будет работать это решение.\n",
    "\n",
    "### Оценка близости текстов\n",
    "\n",
    "В качестве метрики схожести вопросов будем использовать косинусную близость.\n",
    "\n",
    "В валидационном датасете для каждой пары вопросов-дубликатов у нас есть случайные отрицательные примеры. Для каждого триплета (вопрос, дубликат, отрицательные примеры) будет ранжировать с помощью нашей модели и косинусной близости дубликат и отрицательные примеры и смотреть на позицию дубликата.\n",
    "\n",
    "#### Hits@K\n",
    "Довольно простой и легко интерпретируемой метрикой будет количество корректных попаданий дубликата в top \"выдачи\" для какого-то *K*:\n",
    "$$ \\text{Hits@K} = \\frac{1}{N}\\sum_{i=1}^N \\, [dup_i \\in topK(q_i)],$$\n",
    "где $q_i$ - $i$-ый вопрос, $dup_i$ - его дубликат, $topK(q_i)$ - первые *K* элементов в ранжированном списке, который выдает наша модель.\n",
    "\n",
    "#### Пример оценок\n",
    "\n",
    "Пусть $N = 1$, вопрос $q_1$ это \"Что такое python\", а его дубликат $dup_1$ это \"Что такое язык python\". Пусть модель выдала следующий ранжированный список кандидатов:\n",
    "\n",
    "1. *\"Как узнать с++\"*\n",
    "2. *\"Что такое язык python\"*\n",
    "3. *\"Хочу учить Java\"*\n",
    "4. *\"Не понимаю Tensorflow\"*\n",
    "\n",
    "Вычислим метрику *Hits@K* для *K = 1, 4*:\n",
    "\n",
    "- [K = 1] $\\text{Hits@1} =  [dup_1 \\in top1(q_1)] = 0$\n",
    "- [K = 4] $\\text{Hits@4} =  [dup_1 \\in top4(q_1)] = 1$\n",
    "\n",
    "#### Подсчет метрики Hits@k сразу для нескольких k\n",
    "\n",
    "Чтобы посчитать метрику для нескольких k, не нужно повторно ранжировать нашей моделью вопросы для одного и того же сэмпла. Достаточно посчитать для сэмпла количество **сложных негативов** - отрицательных примеров, оказавшихся в выдаче выше, чем дубликат. Тогда\n",
    "$$Hits@k = \\begin{cases}\n",
    "    1, & N < k \\\\\n",
    "    0, & иначе\n",
    "   \\end{cases},$$\n",
    "где **N** - количество сложных негативов."
   ]
  },
  {
   "cell_type": "markdown",
   "metadata": {},
   "source": [
    "Реализуйте подсчет Hits@k для произвольного набора значений k и заданной валидационной выборки, используя предложенный шаблон."
   ]
  },
  {
   "cell_type": "code",
   "execution_count": 10,
   "metadata": {},
   "outputs": [],
   "source": [
    "from tqdm import tqdm\n",
    "from sklearn.metrics.pairwise import cosine_similarity\n",
    "        \n",
    "    \n",
    "class Scorer:\n",
    "    \n",
    "    def __init__(self, k, embedder):\n",
    "        \"\"\"\n",
    "            k: список значений k, для которых нужно посчитать hits@k\n",
    "            embedder: объект класса Embedder, умеющий преобразовать текст в вектор\n",
    "        \"\"\"\n",
    "        self.k = k\n",
    "        self.embedder = embedder\n",
    "        \n",
    "    def _get_hard_negatives(self, q, pos, negs):\n",
    "        \"\"\"\n",
    "            q: текст вопроса\n",
    "            pos: текст дубликата\n",
    "            negs: список из текстов случайных вопросов\n",
    "            \n",
    "            result: количество сложных отрицательных примеров, оказавшихся выше положительного\n",
    "        \"\"\"\n",
    "        q_embedding = self.embedder(q)\n",
    "        pos_embedding = self.embedder(pos)\n",
    "        negs_embeddings = list(map(self.embedder, negs))\n",
    "        \n",
    "        sim_to_pos = cosine_similarity(q_embedding, pos_embedding)\n",
    "        sims_to_negs = np.array(list(map(lambda neg: cosine_similarity(q_embedding, neg), negs_embeddings)))\n",
    "        \n",
    "        result = np.sum(sims_to_negs > sim_to_pos)\n",
    "        \n",
    "        return result\n",
    "    \n",
    "    def __call__(self, samples, verbose=False):\n",
    "        \"\"\"\n",
    "            samples: список из списков вида [q, pos, neg1, neg2, ...]. Наша валидационная выборка\n",
    "            verbose: выводить progressbar подсчета метрики с помощью tqdm\n",
    "            \n",
    "            result: словарь вида {k: hits@k}\n",
    "        \"\"\"\n",
    "        result = dict(zip(self.k, [0] * len(self.k)))\n",
    "        \n",
    "        for sample in tqdm(samples, disable=not verbose):\n",
    "            hard_negs = self._get_hard_negatives(sample[0], sample[1], sample[2:])\n",
    "            for k_i in self.k:\n",
    "                result[k_i] += k_i > hard_negs\n",
    "            \n",
    "        for k_i in self.k:\n",
    "            result[k_i] /= len(samples)\n",
    "            \n",
    "        return result"
   ]
  },
  {
   "cell_type": "code",
   "execution_count": null,
   "metadata": {},
   "outputs": [],
   "source": [
    "scorer = Scorer(\n",
    "    k=[1, 5, 10, 100, 500, 1000],\n",
    "    embedder=embedder\n",
    ")\n",
    "\n",
    "hits = scorer(validation, verbose=True)"
   ]
  },
  {
   "cell_type": "code",
   "execution_count": null,
   "metadata": {},
   "outputs": [],
   "source": [
    "hits"
   ]
  },
  {
   "cell_type": "code",
   "execution_count": null,
   "metadata": {},
   "outputs": [],
   "source": [
    "task_tests.test_scorer(hits)"
   ]
  },
  {
   "cell_type": "markdown",
   "metadata": {},
   "source": [
    "### Предобработка текста\n",
    "\n",
    "Как вы могли заметить, мы имеем дело с сырыми данными. Это означает, что там присутствует много опечаток, спецсимволов и заглавных букв. В нашем случае это все может привести к ситуации, когда для данных токенов нет предобученных векторов. Поэтому необходима предобработка.\n",
    "\n",
    "Вам требуется:\n",
    "- Перевести символы в нижний регистр;\n",
    "- Заменить символы пунктуации и всевозможные плохие символы на пробелы;\n",
    "- Удалить стопслова.\n",
    "- Удалить слова с длиной меньше трех букв\n",
    "\n",
    "Реализуйте предобработку текста, используя предложенный шаблон."
   ]
  },
  {
   "cell_type": "code",
   "execution_count": 11,
   "metadata": {},
   "outputs": [],
   "source": [
    "import re\n",
    "import string\n",
    "from nltk.tokenize import RegexpTokenizer\n",
    "    \n",
    "    \n",
    "class TextPreprocessor:\n",
    "    \n",
    "    def __init__(self, characters, min_word_length=0, stopwords=None):\n",
    "        \"\"\"\n",
    "            characters: список плохих символов\n",
    "            min_word_length: минимальная допустимая длина для слов\n",
    "            stopwords: множество фоновых слов\n",
    "        \"\"\"\n",
    "        self.characters = characters\n",
    "        self.min_word_length = min_word_length\n",
    "        self.stopwords = stopwords\n",
    "        \n",
    "        self.pattern = '[' + re.escape(''.join(self.characters)) + ']'\n",
    "        self.tokenizer = RegexpTokenizer('[a-z0-9+-]+')\n",
    "        self.characters_table = str.maketrans(' ', ' ', \"\".join(characters))\n",
    "        \n",
    "\n",
    "    def __call__(self, text):\n",
    "        \"\"\"\n",
    "            text: текст для обработки\n",
    "            \n",
    "            returns: обработанный текст\n",
    "        \"\"\"\n",
    "        text = text.lower()\n",
    "       # text = text.translate(self.characters_table)\n",
    "        \n",
    "        text = re.sub(self.pattern, ' ', text)\n",
    "        #text = self.tokenizer.tokenize(text)\n",
    "        #text = [word for word in text if word not in self.stopwords]\n",
    "        text = [word for word in text.split() if word not in self.stopwords]\n",
    "        text = ' '.join(text)\n",
    "    \n",
    "        #text = ' '.join([word for word in text.lower().split() if word not in self.stopwords])\n",
    "        #text = text.translate(self.characters_table)\n",
    "        \n",
    "        return text"
   ]
  },
  {
   "cell_type": "code",
   "execution_count": 12,
   "metadata": {},
   "outputs": [],
   "source": [
    "text_preprocessor = TextPreprocessor(\n",
    "    characters=('?', '.', '-', ':'),\n",
    "    stopwords={'not', 'and', 'or'},\n",
    "    min_word_length=3\n",
    ")"
   ]
  },
  {
   "cell_type": "code",
   "execution_count": 13,
   "metadata": {},
   "outputs": [],
   "source": [
    "task_tests.test_text_preprocessor(TextPreprocessor)"
   ]
  },
  {
   "cell_type": "markdown",
   "metadata": {},
   "source": [
    "Множество фоновых слов можно взять из **nltk** с помощью `nltk.corpus.stopwords.words`, выкидываемые плохие символы и пунктуацию следует подобрать самостоятельно.\n",
    "\n",
    "Обработайте текст и продемонстрируйте улучшение качества:"
   ]
  },
  {
   "cell_type": "code",
   "execution_count": 14,
   "metadata": {},
   "outputs": [
    {
     "name": "stderr",
     "output_type": "stream",
     "text": [
      "[nltk_data] Downloading package stopwords to\n",
      "[nltk_data]     /home/furiousteabag/nltk_data...\n",
      "[nltk_data]   Package stopwords is already up-to-date!\n"
     ]
    }
   ],
   "source": [
    "import nltk\n",
    "from nltk.corpus import stopwords\n",
    "\n",
    "nltk.download('stopwords')\n",
    "    \n",
    "text_preprocessor = TextPreprocessor(\n",
    "    characters=string.punctuation,\n",
    "    min_word_length=1,\n",
    "    stopwords=nltk.corpus.stopwords.words(\"english\")\n",
    ")"
   ]
  },
  {
   "cell_type": "code",
   "execution_count": null,
   "metadata": {},
   "outputs": [],
   "source": [
    "validation_preprocessed = [[text_preprocessor(text) for text in row] for row in tqdm(validation)]"
   ]
  },
  {
   "cell_type": "code",
   "execution_count": null,
   "metadata": {},
   "outputs": [],
   "source": [
    "scorer = Scorer(\n",
    "    k=[1, 5, 10, 100, 500, 1000],\n",
    "    embedder=embedder\n",
    ")\n",
    "hits = scorer(validation_preprocessed, verbose=True)\n",
    "\n",
    "hits"
   ]
  },
  {
   "cell_type": "markdown",
   "metadata": {},
   "source": [
    "Одним из критериев получения полных баллов является значение **hits@500** $\\geqslant 0.82$ до предобработки текста и $\\geqslant 0.85$ после предобработки."
   ]
  },
  {
   "cell_type": "markdown",
   "metadata": {},
   "source": [
    "## Часть 2. Представления для неизвестных слов. (8 баллов)"
   ]
  },
  {
   "cell_type": "markdown",
   "metadata": {},
   "source": [
    "Для того, что получить представления для неизвестного слова, воспользуемся следующим подходом:\n",
    "    \n",
    "1. Будем восстанавливать эмбеддинг неизвестного слова как сумму эмбеддингов буквенных триграмм. Например, слово where должно представляться суммой триграмм #wh, whe, her, ere, re#\n",
    "\n",
    "2. В качестве обучающих данных будем использовать слова, для которых есть эмбеддинг в модели. Будем обучать эмбеддинги триграмм по выборке эмбеддингов с помощью функционала MSE:\n",
    "\n",
    "$$L = \\sum_{w \\in W_{known}}\\| f_{\\theta}(w) - v_w \\|^2 \\to \\min_{\\theta}$$\n",
    "\n",
    "где:\n",
    "\n",
    "* $W_{known}$ — множество известных модели слов\n",
    "* $f_{\\theta}(w)$ — сумма эмбеддингов триграмм слова $w$\n",
    "* $v_w$ — эмбеддинг слова $w$\n",
    "* $\\theta$ — веса эмбеддингов триграмм"
   ]
  },
  {
   "cell_type": "markdown",
   "metadata": {},
   "source": [
    "### Создание триграммного токенизатора\n",
    "\n",
    "Для начала, нам нужно:\n",
    "1. Пройтись по известным в word2vec словам и составить множество триграмм, для которых будем обучать векторы\n",
    "2. Составить маппинг из триграмм в индексы\n",
    "3. Реализовать преобразование произвольного слова в список триграмм\n",
    "4. Реализовать преобразование произвольного слова в список индексов триграмм\n",
    "\n",
    "Для реализации всех этих пунктов предлагается использовать шаблон, приведенный ниже."
   ]
  },
  {
   "cell_type": "code",
   "execution_count": 15,
   "metadata": {},
   "outputs": [],
   "source": [
    "class TrigramTokenizer:\n",
    "    \n",
    "    def __init__(self, words):\n",
    "        \"\"\"\n",
    "            Формируем множество всевозможных триграмм, встречающихся в словах из words.\n",
    "            Делаем маппинг триграмм в индексы.\n",
    "            \n",
    "            words: список слов\n",
    "        \"\"\"\n",
    "        self.words = words\n",
    "        \n",
    "        self.trigrams = []\n",
    "        for word in words:\n",
    "            self.trigrams.append(self._get_trigrams(word))\n",
    "        \n",
    "        self.trigrams = set(list(itertools.chain(*self.trigrams)))\n",
    "        self.trigrams = dict(zip(self.trigrams, range(self.vocab_size)))\n",
    "            \n",
    "    @property\n",
    "    def vocab_size(self):\n",
    "        \"\"\"\n",
    "            returns: колчиество триграмм, для которых мы завели индекс.\n",
    "        \"\"\"\n",
    "        return len(self.trigrams)\n",
    "    \n",
    "    @staticmethod\n",
    "    def _get_trigrams(word):\n",
    "        \"\"\"\n",
    "            word: слово\n",
    "            \n",
    "            returns: список триграмм для word\n",
    "        \"\"\"\n",
    "        trigrams = []\n",
    "        \n",
    "        word = \"#\" + word + \"#\"\n",
    "        for i in range(1, len(word) - 1):\n",
    "            trigrams.append(word[i-1:i+2])\n",
    "        \n",
    "        return trigrams\n",
    "            \n",
    "    def __call__(self, word):\n",
    "        \"\"\"\n",
    "            word: слово\n",
    "            \n",
    "            returns: список индексов триграмм для слова word, которые нашлись в маппинге\n",
    "        \"\"\"\n",
    "        trigrams = self._get_trigrams(word)\n",
    "        trigrams_indexes = [self.trigrams[trigram] for trigram in trigrams if trigram in self.trigrams]\n",
    "        \n",
    "        return trigrams_indexes"
   ]
  },
  {
   "cell_type": "code",
   "execution_count": 16,
   "metadata": {},
   "outputs": [],
   "source": [
    "task_tests.test_trigram_tokenizer(TrigramTokenizer)"
   ]
  },
  {
   "cell_type": "markdown",
   "metadata": {},
   "source": [
    "Для создания токенизатора используйте обработанный с помощью TextProcessor текст. \n",
    "\n",
    "**Важно:** в токенизатор нужно подавать только слова, известные word2vec'у."
   ]
  },
  {
   "cell_type": "code",
   "execution_count": 17,
   "metadata": {},
   "outputs": [],
   "source": [
    "import itertools"
   ]
  },
  {
   "cell_type": "code",
   "execution_count": 19,
   "metadata": {},
   "outputs": [
    {
     "name": "stdout",
     "output_type": "stream",
     "text": [
      "Total number of unique words in validation_preprocessed: 17635\n",
      "Total number of unique words which have embeddings: 7968\n",
      "Total number of trigrams: 4142\n",
      "CPU times: user 11.1 s, sys: 546 ms, total: 11.6 s\n",
      "Wall time: 11.7 s\n"
     ]
    }
   ],
   "source": [
    "%%time\n",
    "\n",
    "sentences_preprocessed = [item for row in validation_preprocessed for item in row]\n",
    "sentences_words_preprocessed = list(map(lambda sentence: sentence.split(), sentences_preprocessed))\n",
    "words_preprocessed = set(list(itertools.chain(*sentences_words_preprocessed)))\n",
    "print(f\"Total number of unique words in validation_preprocessed: {len(words_preprocessed)}\")\n",
    "\n",
    "w2v_vocab = list(filter(lambda word: word in wv_embeddings, words_preprocessed))\n",
    "print(f\"Total number of unique words which have embeddings: {len(w2v_vocab)}\")\n",
    "\n",
    "tri_tokenizer = TrigramTokenizer(w2v_vocab)\n",
    "print(f\"Total number of trigrams: {tri_tokenizer.vocab_size}\")"
   ]
  },
  {
   "cell_type": "markdown",
   "metadata": {},
   "source": [
    "### Создание датасета с w2v векторами и списками индексов триграмм\n",
    "\n",
    "Мы будем обучать триграммную модель в нейросетевом фреймворке pytorch. Для этого нам нужно создать свой датасет.\n",
    "\n",
    "Он должен:\n",
    "1. Принимать список слов, word2vec и уже созданный триграммный токенизатор.\n",
    "2. Выдавать пары вида (эмбеддинг для слова из word2vec, список индексов триграмм для этого слова)\n",
    "\n",
    "Реализовать датасет нужно в шаблоне, приведенном ниже."
   ]
  },
  {
   "cell_type": "code",
   "execution_count": 18,
   "metadata": {},
   "outputs": [
    {
     "ename": "NameError",
     "evalue": "name 'w2v_vocab' is not defined",
     "output_type": "error",
     "traceback": [
      "\u001b[0;31m---------------------------------------------------------------------------\u001b[0m",
      "\u001b[0;31mNameError\u001b[0m                                 Traceback (most recent call last)",
      "\u001b[0;32m<ipython-input-18-ef58505f59f0>\u001b[0m in \u001b[0;36m<module>\u001b[0;34m\u001b[0m\n\u001b[1;32m     39\u001b[0m         \u001b[0;32mreturn\u001b[0m \u001b[0;34m(\u001b[0m\u001b[0mword_vec\u001b[0m\u001b[0;34m,\u001b[0m \u001b[0mword_tri_index\u001b[0m\u001b[0;34m)\u001b[0m\u001b[0;34m\u001b[0m\u001b[0;34m\u001b[0m\u001b[0m\n\u001b[1;32m     40\u001b[0m \u001b[0;34m\u001b[0m\u001b[0m\n\u001b[0;32m---> 41\u001b[0;31m \u001b[0mds\u001b[0m \u001b[0;34m=\u001b[0m \u001b[0mTrainTrigramDataset\u001b[0m\u001b[0;34m(\u001b[0m\u001b[0mw2v_vocab\u001b[0m\u001b[0;34m,\u001b[0m \u001b[0mwv_embeddings\u001b[0m\u001b[0;34m,\u001b[0m \u001b[0mtri_tokenizer\u001b[0m\u001b[0;34m)\u001b[0m\u001b[0;34m\u001b[0m\u001b[0;34m\u001b[0m\u001b[0m\n\u001b[0m",
      "\u001b[0;31mNameError\u001b[0m: name 'w2v_vocab' is not defined"
     ]
    }
   ],
   "source": [
    "from torch.utils.data import Dataset\n",
    "\n",
    "\n",
    "class TrainTrigramDataset(Dataset):\n",
    "    \n",
    "    def __init__(self, vocab, w2v_embeddings, tri_tokenizer):\n",
    "        \"\"\"\n",
    "            Формируем выборку для обучения триграммной модели.\n",
    "            ЗАРАНЕЕ считаем маппинг в список индексов для всех известных в word2vec слов.\n",
    "            \n",
    "            vocab: список слов\n",
    "            w2v_embeddings: no comments\n",
    "            tri_tokenizer: токенизатор триграмм\n",
    "        \"\"\"\n",
    "        self.vocab = vocab\n",
    "        self.w2v_embeddings = w2v_embeddings\n",
    "        self.tri_tokenizer = tri_tokenizer\n",
    "        \n",
    "        \n",
    "        self.w2tri_index = {}\n",
    "        for word in self.vocab:\n",
    "            self.w2tri_index[word] = self.tri_tokenizer(word)\n",
    "        \n",
    "                \n",
    "    def __len__(self):\n",
    "        \"\"\"\n",
    "            returns: возвращает количество слов, вошедших в маппинг (размер словаря)\n",
    "        \"\"\"\n",
    "        return len(self.w2tri_index)\n",
    "    \n",
    "    def __getitem__(self, idx):\n",
    "        \"\"\"\n",
    "            returns: w2v эмбеддинг для idx-го слова в датасете, список соответствующих ему триграмм (тензоры)\n",
    "        \"\"\"\n",
    "        word = self.vocab[idx]\n",
    "        word_vec = self.w2v_embeddings[word]\n",
    "        word_tri_index = self.w2tri_index[word]\n",
    "        \n",
    "        return (word_vec, word_tri_index)\n",
    "    \n",
    "ds = TrainTrigramDataset(w2v_vocab, wv_embeddings, tri_tokenizer)"
   ]
  },
  {
   "cell_type": "code",
   "execution_count": null,
   "metadata": {},
   "outputs": [],
   "source": [
    "task_tests.test_dataset(ds, w2v_vocab, wv_embeddings, tri_tokenizer)"
   ]
  },
  {
   "cell_type": "markdown",
   "metadata": {},
   "source": [
    "### Создание DataLoader'а и Collator'а\n",
    "\n",
    "Нас интересуют в первую очередь четыре параметра при создании DataLoader:\n",
    "1. Датасет. Реализует интерфейс массива - можно узнать длину и получить элемент с индексом, меньшим длины.\n",
    "2. batch_size. Задает размера батча (количества сэмплов, идущих одновременно в модель).\n",
    "3. shuffle. При shuffle == True каждую эпоху при итерировании по даталоадеру мы будем получать сэмплы в произвольном порядке.\n",
    "4. collate_fn. Этот параметр позволяет задать кастомную логику \"склеивания\" сэмплов из датасета в батч.\n",
    "\n",
    "В качестве модели мы будем использовать слой **torch.nn.EmbeddingBag**. Он принимает на вход список индексов и список сдвигов, начинающийся с нуля.\n",
    "\n",
    "Нужно наш список списков индексов триграмм превратить в соответствующий формат, преобразовать векторы слов и два списка (индексов и сдвигов) в pytorch тензоры (torch.tensor).\n",
    "\n",
    "Реализуйте следующую функцию:"
   ]
  },
  {
   "cell_type": "code",
   "execution_count": 19,
   "metadata": {},
   "outputs": [],
   "source": [
    "import torch\n",
    "from torch.utils.data import DataLoader\n",
    "\n",
    "\n",
    "def collate_fn(batch):\n",
    "    \"\"\"\n",
    "        batch: список из элементов датасета, e.g. [ds[i] for i in [2, 3, 1, 15]]\n",
    "        \n",
    "        returns: w2v эмбеддинги, индексы триграмм, сдвиги для триграмм\n",
    "    \"\"\"\n",
    "    \n",
    "    w2v_embeddings = []\n",
    "    index_list = []\n",
    "    offsets = []\n",
    "\n",
    "    for vec, indexes in batch:\n",
    "        w2v_embeddings.append(vec)\n",
    "        index_list += indexes\n",
    "        offsets.append(len(indexes))\n",
    "    \n",
    "    off = []\n",
    "    for i, offset in enumerate(offsets):\n",
    "        if not off:\n",
    "            off.append(0)\n",
    "        else:\n",
    "            off.append(off[-1] + offsets[i-1])\n",
    "    \n",
    "    w2v_embeddings = torch.tensor(w2v_embeddings)\n",
    "    index_list = torch.tensor(index_list)\n",
    "    offset = torch.tensor(off)\n",
    "    \n",
    "    return w2v_embeddings, index_list, offset"
   ]
  },
  {
   "cell_type": "code",
   "execution_count": 23,
   "metadata": {},
   "outputs": [],
   "source": [
    "task_tests.test_dataloader(ds, collate_fn, embedding_dim=300)"
   ]
  },
  {
   "cell_type": "markdown",
   "metadata": {},
   "source": [
    "### Создание модели\n",
    "\n",
    "При создании модели мы обычно наследуемся от **torch.nn.Module** и создаем нужные нам слои как атрибуты объекта нашего класса.\n",
    "\n",
    "В данном случае предлагается для формирования эмбеддингов использовать **torch.nn.EmbeddingBag**.\n",
    "\n",
    "Реализуйте предложенный шаблон:"
   ]
  },
  {
   "cell_type": "code",
   "execution_count": 20,
   "metadata": {},
   "outputs": [
    {
     "ename": "NameError",
     "evalue": "name 'tri_tokenizer' is not defined",
     "output_type": "error",
     "traceback": [
      "\u001b[0;31m---------------------------------------------------------------------------\u001b[0m",
      "\u001b[0;31mNameError\u001b[0m                                 Traceback (most recent call last)",
      "\u001b[0;32m<ipython-input-20-8b68b838b30a>\u001b[0m in \u001b[0;36m<module>\u001b[0;34m\u001b[0m\n\u001b[1;32m     36\u001b[0m         \u001b[0;32mreturn\u001b[0m \u001b[0membeddings\u001b[0m\u001b[0;34m\u001b[0m\u001b[0;34m\u001b[0m\u001b[0m\n\u001b[1;32m     37\u001b[0m \u001b[0;34m\u001b[0m\u001b[0m\n\u001b[0;32m---> 38\u001b[0;31m \u001b[0mmodel\u001b[0m \u001b[0;34m=\u001b[0m \u001b[0mTrigramModel\u001b[0m\u001b[0;34m(\u001b[0m\u001b[0mtri_tokenizer\u001b[0m\u001b[0;34m.\u001b[0m\u001b[0mvocab_size\u001b[0m\u001b[0;34m,\u001b[0m \u001b[0membedding_dim\u001b[0m\u001b[0;34m=\u001b[0m\u001b[0mwv_embeddings\u001b[0m\u001b[0;34m.\u001b[0m\u001b[0mvector_size\u001b[0m\u001b[0;34m)\u001b[0m\u001b[0;34m\u001b[0m\u001b[0;34m\u001b[0m\u001b[0m\n\u001b[0m",
      "\u001b[0;31mNameError\u001b[0m: name 'tri_tokenizer' is not defined"
     ]
    }
   ],
   "source": [
    "from torch import nn\n",
    "\n",
    "\n",
    "class TrigramModel(nn.Module):\n",
    "    \n",
    "    def __init__(self, num_embeddings, embedding_dim):\n",
    "        \"\"\"\n",
    "            num_embeddings: количество триграмм, для которых обучаются эмбеддинги\n",
    "            embedding_dim: размерность эмбеддингов триграмм\n",
    "        \"\"\"\n",
    "        super(TrigramModel, self).__init__()\n",
    "        self.embedding_bag = nn.EmbeddingBag(num_embeddings=num_embeddings, embedding_dim=embedding_dim)\n",
    "        \n",
    "    @property\n",
    "    def embedding_dim(self):\n",
    "        \"\"\"\n",
    "            returns: размерность эмбеддингов\n",
    "        \"\"\"\n",
    "        return self.embedding_bag.embedding_dim\n",
    "    \n",
    "    @property\n",
    "    def num_embeddings(self):\n",
    "        \"\"\"\n",
    "            returns: количество эмбеддингов\n",
    "        \"\"\"\n",
    "        return self.embedding_bag.num_embeddings\n",
    "    \n",
    "    def forward(self, trigrams, offsets):\n",
    "        \"\"\"\n",
    "            trigrams: список индексов триграмм (тензор)\n",
    "            offsets: список сдвигов (тензор)\n",
    "            \n",
    "            returns: эмбеддинги слов, составленные из триграмм\n",
    "        \"\"\"\n",
    "        embeddings = self.embedding_bag(trigrams, offsets)\n",
    "        return embeddings\n",
    "    \n",
    "model = TrigramModel(tri_tokenizer.vocab_size, embedding_dim=wv_embeddings.vector_size)"
   ]
  },
  {
   "cell_type": "code",
   "execution_count": 25,
   "metadata": {},
   "outputs": [],
   "source": [
    "task_tests.test_trigram_model(model)"
   ]
  },
  {
   "cell_type": "markdown",
   "metadata": {},
   "source": [
    "### Создание пайплайна обучения\n",
    "\n",
    "Далее необходимо совместить все наработки в единый пайплайн обучения, добавив также критерий для оптимизации и оптимизатор. \n",
    "\n",
    "Предлагается:\n",
    "\n",
    "1. В качестве оптимизатора использовать Adam (можно попробовать подобрать learning rate / weight decay)\n",
    "2. В качестве критерия оптимизации взять nn.MSELoss (можно также закодить лосс самому)\n",
    "3. Для даталоадера выбрать небольшой батч сайз (32, 64, 128, 256)\n",
    "4. Десяти эпох должно быть достаточно для хорошего качества\n",
    "\n",
    "Реализуйте предложенный шаблон."
   ]
  },
  {
   "cell_type": "code",
   "execution_count": 26,
   "metadata": {},
   "outputs": [],
   "source": [
    "import time\n",
    "\n",
    "    \n",
    "class Trainer:\n",
    "    \n",
    "    def __init__(self, model, criterion, optimizer):\n",
    "        \"\"\"\n",
    "            model: триграммная модель\n",
    "            criterion: функционал ошибки, принимает на вход w2v эмбеддинги и триграммные эмбеддинги\n",
    "            optimizer: оптимизатор для модели\n",
    "        \"\"\"\n",
    "        self.model = model\n",
    "        self.criterion = criterion\n",
    "        self.optimizer = optimizer\n",
    "        \n",
    "    def _train_step(self, dataloader):\n",
    "        \"\"\"\n",
    "            Делаем один проход по даталоадеру, с бэкпропом\n",
    "            \n",
    "            dataloader: даталоадер с тренировочными данными\n",
    "            \n",
    "            returns: лосс\n",
    "        \"\"\"\n",
    "        epoch_loss = 0.0\n",
    "        \n",
    "        for words, trigrams, offsets in dataloader:\n",
    "            self.optimizer.zero_grad()\n",
    "            \n",
    "            output = self.model(trigrams, offsets)\n",
    "            self.loss = self.criterion(output, words)\n",
    "            self.loss.backward()\n",
    "            self.optimizer.step()\n",
    "            \n",
    "            epoch_loss += self.loss\n",
    "            \n",
    "        return epoch_loss / len(dataloader)\n",
    "        #return epoch_loss\n",
    "\n",
    "    \n",
    "    def train(self, dataloader, n_epochs, verbose=False):\n",
    "        \"\"\"\n",
    "            dataloader: тренировочный даталоадер\n",
    "            n_epochs: количество эпох\n",
    "            verbose: выводить лосс каждую эпоху или нет\n",
    "            \n",
    "            returns: список лоссов\n",
    "        \"\"\"\n",
    "        start = time.time()\n",
    "        losses = []\n",
    "        for epoch in range(n_epochs):\n",
    "            loss = self._train_step(dataloader)\n",
    "            losses.append(loss)\n",
    "            if verbose:\n",
    "                print(f'epoch: {epoch + 1:>2}, loss: {loss:.4f}, time: {time.time() - start:.4f}')\n",
    "        return losses"
   ]
  },
  {
   "cell_type": "code",
   "execution_count": 27,
   "metadata": {},
   "outputs": [],
   "source": [
    "BATCH_SIZE = 128\n",
    "N_EPOCHS = 20\n",
    "LR = 0.01\n",
    "\n",
    "model = TrigramModel(tri_tokenizer.vocab_size, embedding_dim=wv_embeddings.vector_size)\n",
    "criterion = nn.MSELoss()\n",
    "optimizer = torch.optim.Adam(model.parameters(), lr=LR)\n",
    "\n",
    "trainer = Trainer(model, criterion, optimizer)\n",
    "\n",
    "dataloader = DataLoader(ds, batch_size=BATCH_SIZE, shuffle=True, collate_fn=collate_fn)"
   ]
  },
  {
   "cell_type": "code",
   "execution_count": 28,
   "metadata": {},
   "outputs": [
    {
     "name": "stdout",
     "output_type": "stream",
     "text": [
      "epoch:  1, loss: 0.1753, time: 0.8290\n",
      "epoch:  2, loss: 0.1265, time: 1.4472\n",
      "epoch:  3, loss: 0.0967, time: 2.0136\n",
      "epoch:  4, loss: 0.0774, time: 2.6049\n",
      "epoch:  5, loss: 0.0638, time: 3.1749\n",
      "epoch:  6, loss: 0.0542, time: 3.7372\n",
      "epoch:  7, loss: 0.0468, time: 4.3101\n",
      "epoch:  8, loss: 0.0412, time: 4.8778\n",
      "epoch:  9, loss: 0.0367, time: 5.4843\n",
      "epoch: 10, loss: 0.0333, time: 6.0625\n",
      "epoch: 11, loss: 0.0304, time: 6.6362\n",
      "epoch: 12, loss: 0.0281, time: 7.2008\n",
      "epoch: 13, loss: 0.0262, time: 7.7637\n",
      "epoch: 14, loss: 0.0245, time: 8.3250\n",
      "epoch: 15, loss: 0.0232, time: 8.8893\n",
      "epoch: 16, loss: 0.0220, time: 9.4573\n",
      "epoch: 17, loss: 0.0211, time: 10.0306\n",
      "epoch: 18, loss: 0.0202, time: 10.5949\n",
      "epoch: 19, loss: 0.0195, time: 11.1594\n",
      "epoch: 20, loss: 0.0188, time: 11.7223\n"
     ]
    }
   ],
   "source": [
    "losses = trainer.train(dataloader, N_EPOCHS, verbose=True)"
   ]
  },
  {
   "cell_type": "markdown",
   "metadata": {},
   "source": [
    "### Получение векторов неизвестных слов. Инференс модели\n",
    "\n",
    "Теперь, когда мы обучили модель, нам необходимо применить её для всех неизвестных слов, т.е. получить для них эмбеддинги.\n",
    "\n",
    "Т.к. для этих слов у нас нет word2vec эмбеддингов, то dataset и collator для обучения не подходят для инференса. Необходимо реализовать датасет и коллатор для инференса по следующим шаблонам:"
   ]
  },
  {
   "cell_type": "code",
   "execution_count": 29,
   "metadata": {},
   "outputs": [],
   "source": [
    "class InferenceTrigramDataset:\n",
    "    \n",
    "    def __init__(self, vocab, tri_tokenizer):\n",
    "        \"\"\"\n",
    "            Датасет с неизвестными словами\n",
    "            \n",
    "            vocab: список слов\n",
    "            tri_tokenizer: триграммный токенизатор\n",
    "        \"\"\"\n",
    "        self.initial_vocab = vocab\n",
    "        self.tri_tokenizer = tri_tokenizer\n",
    "        \n",
    "        self.vocab = []\n",
    "        self.w2tri_index = {}\n",
    "        for word in self.initial_vocab:\n",
    "            tokens = self.tri_tokenizer(word)\n",
    "            if tokens:\n",
    "                self.w2tri_index[word] = tokens\n",
    "                self.vocab.append(word)\n",
    "        \n",
    "    def __len__(self):\n",
    "        return len(self.w2tri_index)\n",
    "    \n",
    "    def __getitem__(self, idx):\n",
    "        word = self.vocab[idx]\n",
    "        word_tri_index = self.w2tri_index[word]\n",
    "        \n",
    "        return word_tri_index\n",
    "    \n",
    "    \n",
    "def inference_collate_fn(trigrams):\n",
    "    \"\"\"\n",
    "        trigrams: список списков индексов триграмм\n",
    "        \n",
    "        returns: список индексов, список сдвигов триграмм\n",
    "    \"\"\"\n",
    "    index_list = []\n",
    "    offsets = []\n",
    "\n",
    "    for indexes in trigrams:\n",
    "        index_list += indexes\n",
    "        offsets.append(len(indexes))\n",
    "    \n",
    "    off = []\n",
    "    for i, offset in enumerate(offsets):\n",
    "        if not off:\n",
    "            off.append(0)\n",
    "        else:\n",
    "            off.append(off[-1] + offsets[i-1])\n",
    "    \n",
    "    index_list = torch.tensor(index_list)\n",
    "    offset = torch.tensor(off)\n",
    "    \n",
    "    return index_list, offset"
   ]
  },
  {
   "cell_type": "code",
   "execution_count": 30,
   "metadata": {},
   "outputs": [
    {
     "name": "stdout",
     "output_type": "stream",
     "text": [
      "Total number of words w/o w2v represetaion: 9667\n",
      "Sample words: ['serializable', 'threadgroup', 'lgpl', 'nnls', 'structuremap3']\n",
      "\n",
      "Total number of words w/o w2v represetaion for which exists trigrams: 9172\n",
      "Sample words that don't have trigrams: ['59', '00918', '12c', '2147483648', 'nxn', 'c4028', '384583', '9292', '5000', 's3a']\n"
     ]
    }
   ],
   "source": [
    "vocab_unk = list(words_preprocessed - set(w2v_vocab))\n",
    "print(f\"Total number of words w/o w2v represetaion: {len(vocab_unk)}\")\n",
    "print(f\"Sample words: {vocab_unk[:5]}\\n\")\n",
    "\n",
    "inf_ds = InferenceTrigramDataset(vocab_unk, tri_tokenizer)\n",
    "vocab_unk_exits_trigrams = inf_ds.vocab\n",
    "print(f\"Total number of words w/o w2v represetaion for which exists trigrams: {len(vocab_unk_exits_trigrams)}\")\n",
    "print(f\"Sample words that don't have trigrams: {list(set(vocab_unk) - set(vocab_unk_exits_trigrams))[:10]}\")"
   ]
  },
  {
   "cell_type": "code",
   "execution_count": 31,
   "metadata": {},
   "outputs": [],
   "source": [
    "inf_dataloader = DataLoader(inf_ds, batch_size=1, shuffle=False, collate_fn=inference_collate_fn)"
   ]
  },
  {
   "cell_type": "markdown",
   "metadata": {},
   "source": [
    "Теперь у нас есть всё необходимое, чтобы осуществить инференс. Не забудь перед инференсом перевести модель в режим эвала (**model.eval**), а также использовать контекстный менеджер **torch.no_grad**.\n",
    "\n",
    "После инференса сформируйте словарь из известных в word2vec слов и их эмбеддингов, затем дополните его эмбеддингами для неизвестных слов, полученными после инференса."
   ]
  },
  {
   "cell_type": "markdown",
   "metadata": {},
   "source": [
    "#### loss on inference"
   ]
  },
  {
   "cell_type": "code",
   "execution_count": 32,
   "metadata": {},
   "outputs": [
    {
     "name": "stdout",
     "output_type": "stream",
     "text": [
      "tensor(0.0175, grad_fn=<DivBackward0>)\n"
     ]
    }
   ],
   "source": [
    "epoch_loss = 0.0\n",
    "\n",
    "for words, trigrams, offsets in dataloader:\n",
    "\n",
    "    output = trainer.model(trigrams, offsets)\n",
    "    loss = criterion(words, output)\n",
    "\n",
    "    epoch_loss += loss\n",
    "\n",
    "print(epoch_loss / len(dataloader))"
   ]
  },
  {
   "cell_type": "markdown",
   "metadata": {},
   "source": [
    "#### predicting embeddings"
   ]
  },
  {
   "cell_type": "code",
   "execution_count": 33,
   "metadata": {},
   "outputs": [],
   "source": [
    "embeddings = []\n",
    "trainer.model.eval()\n",
    "\n",
    "with torch.no_grad():\n",
    "    \n",
    "    for trigrams, offsets in inf_dataloader:\n",
    "        embeddings += trainer.model(trigrams, offsets)"
   ]
  },
  {
   "cell_type": "markdown",
   "metadata": {},
   "source": [
    "#### merging embeddings into single dict"
   ]
  },
  {
   "cell_type": "code",
   "execution_count": 34,
   "metadata": {},
   "outputs": [],
   "source": [
    "all_words_embeddings = {}\n",
    "\n",
    "for word in w2v_vocab:\n",
    "    all_words_embeddings[word] = wv_embeddings[word]\n",
    "    \n",
    "for i, word in enumerate(vocab_unk_exits_trigrams):\n",
    "    all_words_embeddings[word] = embeddings[i].numpy()"
   ]
  },
  {
   "cell_type": "code",
   "execution_count": 35,
   "metadata": {},
   "outputs": [
    {
     "name": "stdout",
     "output_type": "stream",
     "text": [
      "17140\n"
     ]
    }
   ],
   "source": [
    "print(len(all_words_embeddings))"
   ]
  },
  {
   "cell_type": "markdown",
   "metadata": {},
   "source": [
    "#### evaluating embeddings"
   ]
  },
  {
   "cell_type": "code",
   "execution_count": 36,
   "metadata": {},
   "outputs": [],
   "source": [
    "from random import sample"
   ]
  },
  {
   "cell_type": "code",
   "execution_count": 37,
   "metadata": {},
   "outputs": [
    {
     "name": "stdout",
     "output_type": "stream",
     "text": [
      "Most similar wv words to word 'inverses': [('inverts', 0.6449255347251892), ('inverting', 0.6081587672233582), ('inverse', 0.5844708681106567), ('invert', 0.583441436290741), ('inverted', 0.5663700103759766)]\n",
      "\n",
      "Most similar wv words to word 'wordwrap': [('wrap', 0.4099579155445099), ('wrapped', 0.3574475944042206), ('unwrap', 0.35278916358947754), ('wraps', 0.35182902216911316), ('Duct_tape', 0.34673047065734863)]\n",
      "\n",
      "Most similar wv words to word 'setaudiostreamtype': [('narrowcast', 0.4663979709148407), ('audio', 0.44762274622917175), ('multichannel', 0.4184538722038269), ('content', 0.4066633880138397), ('3G_SDI', 0.40650901198387146)]\n",
      "\n",
      "Most similar wv words to word 'jvmrunargs': [('parallelization', 0.3367251753807068), ('buffer_overflows', 0.3180409073829651), ('sonar', 0.31350836157798767), ('computations', 0.3131932020187378), ('CPU_cycles', 0.3122495412826538)]\n",
      "\n",
      "Most similar wv words to word 'configureawait': [('configuration', 0.682030200958252), ('configure', 0.6546011567115784), ('configured', 0.6464684009552002), ('configurations', 0.6310783624649048), ('configurable', 0.5918813943862915)]\n",
      "\n"
     ]
    }
   ],
   "source": [
    "unk_words = sample(vocab_unk_exits_trigrams, 5)\n",
    "for word in unk_words:\n",
    "    embedding = all_words_embeddings[word]\n",
    "    print(f\"Most similar wv words to word '{word}': {wv_embeddings.similar_by_vector(embedding, 5)}\\n\")"
   ]
  },
  {
   "cell_type": "markdown",
   "metadata": {},
   "source": [
    "Используя **Scorer** и **Embedder**, получите новые значения метрик для валидации:"
   ]
  },
  {
   "cell_type": "code",
   "execution_count": 37,
   "metadata": {},
   "outputs": [
    {
     "name": "stderr",
     "output_type": "stream",
     "text": [
      "100%|██████████| 3760/3760 [12:13<00:00,  5.12it/s]\n"
     ]
    }
   ],
   "source": [
    "embedder = Embedder(all_words_embeddings, dim=300)\n",
    "\n",
    "scorer = Scorer(\n",
    "    k=[1, 5, 10, 100, 500, 1000],\n",
    "    embedder=embedder\n",
    ")\n",
    "\n",
    "hits = scorer(validation, verbose=True)"
   ]
  },
  {
   "cell_type": "code",
   "execution_count": 38,
   "metadata": {},
   "outputs": [
    {
     "data": {
      "text/plain": [
       "{1: 0.25292553191489364,\n",
       " 5: 0.3396276595744681,\n",
       " 10: 0.3853723404255319,\n",
       " 100: 0.5327127659574468,\n",
       " 500: 0.7462765957446809,\n",
       " 1000: 1.0}"
      ]
     },
     "execution_count": 38,
     "metadata": {},
     "output_type": "execute_result"
    }
   ],
   "source": [
    "hits"
   ]
  },
  {
   "cell_type": "markdown",
   "metadata": {},
   "source": [
    "Одним из критериев получения полных баллов является значение метрики **hits@500** $\\geqslant 0.89$."
   ]
  },
  {
   "cell_type": "markdown",
   "metadata": {},
   "source": [
    "## Дополнительная часть. Обучение векторных представлений для целевой задачи. (до 5 баллов)\n",
    "\n",
    "Предполагается, что в этой части используются TextPreprocessor, Embedder, Scorer из предыдущих частей.\n",
    "\n",
    "Для обучения на целевую задачу нам понадобится обучающая выборка. Считайте её с диска, предобработайте текст вопросов"
   ]
  },
  {
   "cell_type": "code",
   "execution_count": 21,
   "metadata": {},
   "outputs": [
    {
     "name": "stderr",
     "output_type": "stream",
     "text": [
      "100%|██████████| 1000000/1000000 [00:45<00:00, 22197.14it/s]\n"
     ]
    }
   ],
   "source": [
    "train = []\n",
    "for questions in tqdm(read_corpus('data/train.tsv')):\n",
    "    train.append([text_preprocessor(text) for text in questions])"
   ]
  },
  {
   "cell_type": "markdown",
   "metadata": {},
   "source": [
    "Необходимо создать **токенизатор для текста** - составить словарь и сделать маппинг из слов в индексы."
   ]
  },
  {
   "cell_type": "code",
   "execution_count": 22,
   "metadata": {},
   "outputs": [],
   "source": [
    "class TextTokenizer:\n",
    "    \n",
    "    def __init__(self, vocab):\n",
    "        \"\"\"\n",
    "            vocab: множество слов, встретившихся в обучающей выборке\n",
    "        \"\"\"\n",
    "        self.vocab = vocab\n",
    "        self.word2index = dict(zip(vocab, range(len(vocab))))\n",
    "\n",
    "    @property\n",
    "    def vocab_size(self):\n",
    "        \"\"\"\n",
    "            returns: количество слов в словаре\n",
    "        \"\"\"\n",
    "        return len(self.word2index)\n",
    "    \n",
    "    def __call__(self, text):\n",
    "        \"\"\"\n",
    "            text: текст\n",
    "            \n",
    "            returns: список индексов\n",
    "        \"\"\"\n",
    "        indexes = [self.word2index[word] for word in text.split() if word in self.word2index]\n",
    "        return indexes"
   ]
  },
  {
   "cell_type": "markdown",
   "metadata": {},
   "source": [
    "Составление словаря и токенизатора"
   ]
  },
  {
   "cell_type": "code",
   "execution_count": 23,
   "metadata": {},
   "outputs": [],
   "source": [
    "import itertools"
   ]
  },
  {
   "cell_type": "code",
   "execution_count": 24,
   "metadata": {},
   "outputs": [
    {
     "name": "stdout",
     "output_type": "stream",
     "text": [
      "Total number of unique words in train dataset: 132383\n",
      "CPU times: user 4.83 s, sys: 187 ms, total: 5.02 s\n",
      "Wall time: 5.02 s\n"
     ]
    }
   ],
   "source": [
    "%%time\n",
    "\n",
    "sentences = [item for row in train for item in row]\n",
    "sentences_words = list(map(lambda sentence: sentence.split(), sentences))\n",
    "words = set(list(itertools.chain(*sentences_words)))\n",
    "print(f\"Total number of unique words in train dataset: {len(words)}\")"
   ]
  },
  {
   "cell_type": "code",
   "execution_count": 25,
   "metadata": {},
   "outputs": [],
   "source": [
    "text_tokenizer = TextTokenizer(words)"
   ]
  },
  {
   "cell_type": "markdown",
   "metadata": {},
   "source": [
    "Нам также понадобится **новый датасет для обучения**. Для применения метода NT-Exent нам не нужно \"майнить негативы\", поэтому датасет надо сформировать как массив из пар-дубликатов.\n",
    "\n",
    "Так как данные в обучающей выборке содержат множества дубликатов (т.е. все дубликаты сгруппированы в списки), есть несколько способов сформировать итоговый датасет:\n",
    "1. Оставить из каждого множества дубликатов какие-нибудь случайные два (или просто первые два вопроса)\n",
    "2. Для первого вопроса в множестве взять все остальные как дубликаты (N вопросов-дубликатов - N-1 пара). Тогда мы увидим каждый вопрос хотя бы один раз при обучении\n",
    "3. Составить всевозможные уникальные пары-дубликаты из этих множеств (т.е. первый вопрос и все остальные вопросы, второй вопрос и все остальные, кроме первого).\n",
    "\n",
    "Каждый следующий способ, начиная с первого, раздувает выборку по размеру, но возможно дает прирост к качеству решения задачи.\n",
    "\n",
    "Реализуйте выбранный вами подход, используя предолженный шаблон:"
   ]
  },
  {
   "cell_type": "code",
   "execution_count": 26,
   "metadata": {},
   "outputs": [],
   "source": [
    "class QuestionDuplicatesDataset(Dataset):\n",
    "    \n",
    "    def __init__(self, question_pairs, tokenizer):\n",
    "        \"\"\"\n",
    "            question_pairs: список из пар вопросов-дубликатов\n",
    "            tokenizer: объект класса TextTokenizer\n",
    "        \"\"\"\n",
    "        self.question_pairs = question_pairs\n",
    "        self.tokenizer = tokenizer\n",
    "        \n",
    "        self.pairs = []\n",
    "        for duplicate_questions in self.question_pairs:\n",
    "            for i in range(len(duplicate_questions)):\n",
    "                for j in range(i+1, len(duplicate_questions)):\n",
    "                    self.pairs.append(\n",
    "                        (self.tokenizer(duplicate_questions[i]),\n",
    "                         self.tokenizer(duplicate_questions[j]))\n",
    "                    )\n",
    "            \n",
    "    def __len__(self):\n",
    "        \"\"\"\n",
    "            returns: количество пар-дубликатов\n",
    "        \"\"\"\n",
    "        return len(self.pairs)\n",
    "    \n",
    "    def __getitem__(self, idx):\n",
    "        \"\"\"\n",
    "            returns: (вопрос, дубликат), idx-ю пару в датасете\n",
    "        \"\"\"\n",
    "        return self.pairs[idx]"
   ]
  },
  {
   "cell_type": "markdown",
   "metadata": {},
   "source": [
    "Также нужно подготовить **даталоадер** (а именно - коллатор для даталоадера) по аналогии со второй частью задания."
   ]
  },
  {
   "cell_type": "code",
   "execution_count": 27,
   "metadata": {},
   "outputs": [],
   "source": [
    "import torch"
   ]
  },
  {
   "cell_type": "code",
   "execution_count": 28,
   "metadata": {},
   "outputs": [],
   "source": [
    "def get_ids_and_offsets(questions):\n",
    "    \"\"\"\n",
    "        questions: список из токенизированных вопросов\n",
    "        \n",
    "        returns: (ids, offsets), где ids - вытянутый список индексов слов в вопросах из батча, offsets - сдвиги\n",
    "    \"\"\"\n",
    "    ids = []\n",
    "    offsets = []\n",
    "\n",
    "    for indexes in questions:\n",
    "        ids += indexes\n",
    "        offsets.append(len(indexes))\n",
    "    \n",
    "    off = []\n",
    "    for i, offset in enumerate(offsets):\n",
    "        if not off:\n",
    "            off.append(0)\n",
    "        else:\n",
    "            off.append(off[-1] + offsets[i-1])\n",
    "    \n",
    "    return (torch.tensor(ids), torch.tensor(off))\n",
    "\n",
    "\n",
    "def collate_fn(batch):\n",
    "    \"\"\"\n",
    "        batch: список из пар токенизированных вопросов-дубликатов [(question, duplicate), ...]\n",
    "        \n",
    "        returns: (question_ids, question_offsets), (duplicate_ids, duplicate_offsets)\n",
    "    \"\"\"\n",
    "    questions, duplicates = map(list, zip(*batch))\n",
    "    questions, duplicates = get_ids_and_offsets(questions), get_ids_and_offsets(duplicates)\n",
    "    \n",
    "    return questions, duplicates"
   ]
  },
  {
   "cell_type": "markdown",
   "metadata": {},
   "source": [
    "Поделите выборку на трейн и валидацию, используя train_test_split, затем **создайте датасеты и даталоадеры** для обучения и валидации. Сколько пар-дубликатов получилось в датасете для обучения?"
   ]
  },
  {
   "cell_type": "code",
   "execution_count": 29,
   "metadata": {},
   "outputs": [],
   "source": [
    "from sklearn.model_selection import train_test_split"
   ]
  },
  {
   "cell_type": "code",
   "execution_count": 30,
   "metadata": {},
   "outputs": [
    {
     "name": "stdout",
     "output_type": "stream",
     "text": [
      "Total number of rows in initial train dataset: 1000000\n",
      "Total number of rows in train split: 800000\n",
      "Total number of rows in validation split: 200000\n",
      "\n",
      "Number of pairs in train dataset: 1292173\n",
      "Number of pairs in validation dataset: 328000\n",
      "CPU times: user 13.2 s, sys: 99.8 ms, total: 13.3 s\n",
      "Wall time: 13.3 s\n"
     ]
    }
   ],
   "source": [
    "%%time\n",
    "\n",
    "train_split, validation_split = train_test_split(train, test_size=0.2)\n",
    "print(f\"Total number of rows in initial train dataset: {len(train)}\")\n",
    "print(f\"Total number of rows in train split: {len(train_split)}\")\n",
    "print(f\"Total number of rows in validation split: {len(validation_split)}\\n\")\n",
    "\n",
    "train_dataset = QuestionDuplicatesDataset(train_split, text_tokenizer)\n",
    "validation_dataset = QuestionDuplicatesDataset(validation_split, text_tokenizer)\n",
    "print(f\"Number of pairs in train dataset: {len(train_dataset)}\")\n",
    "print(f\"Number of pairs in validation dataset: {len(validation_dataset)}\")"
   ]
  },
  {
   "cell_type": "code",
   "execution_count": 40,
   "metadata": {},
   "outputs": [],
   "source": [
    "BATCH_SIZE = 2"
   ]
  },
  {
   "cell_type": "code",
   "execution_count": 41,
   "metadata": {},
   "outputs": [],
   "source": [
    "train_dataloader = DataLoader(train_dataset, batch_size=BATCH_SIZE, shuffle=True, collate_fn=collate_fn)\n",
    "validation_dataloader = DataLoader(validation_dataset, batch_size=BATCH_SIZE, shuffle=False, collate_fn=collate_fn)"
   ]
  },
  {
   "cell_type": "markdown",
   "metadata": {},
   "source": [
    "С помощью предложенного шаблона **задайте модель** для преобразования вопросов в векторы."
   ]
  },
  {
   "cell_type": "code",
   "execution_count": 46,
   "metadata": {},
   "outputs": [],
   "source": [
    "from torch import nn\n",
    "\n",
    "class DssmLikeModel(nn.Module):\n",
    "    \n",
    "    def __init__(self, num_embeddings, embedding_dim):\n",
    "        \"\"\"\n",
    "            num_embeddings: количество слов, для которых обучаем эмбеддинги\n",
    "            embedding_dim: размерность эмбеддинга\n",
    "        \"\"\"\n",
    "        super().__init__()\n",
    "        self.embedding_bag = nn.EmbeddingBag(num_embeddings=num_embeddings, embedding_dim=embedding_dim)\n",
    "        \n",
    "    @property\n",
    "    def embedding_dim(self):\n",
    "        \"\"\"\n",
    "            returns: размерность эмбеддингов\n",
    "        \"\"\"\n",
    "        return self.embedding_bag.embedding_dim\n",
    "    \n",
    "    @property\n",
    "    def num_embeddings(self):\n",
    "        \"\"\"\n",
    "            returns: количество эмбеддингов\n",
    "        \"\"\"\n",
    "        return self.embedding_bag.num_embeddings\n",
    "        \n",
    "    def forward(self, ids, offsets):\n",
    "        \"\"\"\n",
    "            ids: вытянутая посл-ть индексов слов вопросов, попавших в батч\n",
    "            offsets: сдвиги для вопросов, попавших в батч\n",
    "            \n",
    "            returns: векторы вопросов\n",
    "        \"\"\"\n",
    "        embeddings = self.embedding_bag(ids, offsets)\n",
    "        return embeddings"
   ]
  },
  {
   "cell_type": "markdown",
   "metadata": {},
   "source": [
    "Создание модели"
   ]
  },
  {
   "cell_type": "code",
   "execution_count": 47,
   "metadata": {},
   "outputs": [],
   "source": [
    "EMBEDDING_DIM = 300\n",
    "\n",
    "dssm_like_model = DssmLikeModel(text_tokenizer.vocab_size, EMBEDDING_DIM)"
   ]
  },
  {
   "cell_type": "markdown",
   "metadata": {},
   "source": [
    "**Критерий оптимизации** для NTExentLoss выглядит как:\n",
    "\n",
    "$$\\mathcal{L}(Q, D) = -0.5 \\log diag(softmax(QD^T / \\alpha)) - 0.5 \\log diag(softmax(DQ^T / \\alpha)),$$\n",
    "\n",
    "где:\n",
    "* $Q \\in \\mathbb{R}^{b \\times d}$ - эмбеддинги вопросов, \n",
    "* $D \\in \\mathbb{R}^{b \\times d}$ - эмбеддинги соответствующих вопросам дубликатов,\n",
    "* $b$ - количество пар (вопрос, дубликат), $d$ - размерность эмбеддингов, $\\alpha$ - гиперпараметр лосса. \n",
    "* Softmax берется по рядам\n",
    "* Матрицы $Q, D$ содержат нормированные эмбеддинги, т.е. считается именно косинус."
   ]
  },
  {
   "cell_type": "code",
   "execution_count": 103,
   "metadata": {},
   "outputs": [],
   "source": [
    "class NTExentLoss(nn.Module):\n",
    "    \n",
    "    def __init__(self, alpha=1., eps=1e-8):\n",
    "        \"\"\"\n",
    "            alpha: коэффициент, на который мы делим скоры перед софтмаксом\n",
    "            eps: ||v|| = max(eps, ||v||)\n",
    "        \"\"\"\n",
    "        super().__init__()\n",
    "        self.alpha = alpha\n",
    "        self.eps = eps\n",
    "        \n",
    "        self.softmax = nn.Softmax(dim=0)\n",
    "        \n",
    "    def _normalize(self, embeddings):\n",
    "        \"\"\"\n",
    "            embeddings: матрица размера [batch_size, embedding_dim]\n",
    "            \n",
    "            returns: матрица такого же размера, но с нормироваными векторами\n",
    "        \"\"\"\n",
    "        return nn.functional.normalize(embeddings, dim=0)\n",
    "    \n",
    "    def forward(self, embeddings, positives):\n",
    "        \"\"\"\n",
    "            embeddings: матрица размера [batch_size, embedding_dim]\n",
    "            positives: матрица такого же размера, с позитивами для векторов из матрицы embeddings\n",
    "            \n",
    "            returns: NT-Exent loss\n",
    "        \"\"\"\n",
    "        first = -0.5 * torch.log(\n",
    "            torch.diag(\n",
    "                self.softmax(\n",
    "                    embeddings @ positives.T / self.alpha)))\n",
    "        \n",
    "        second = 0.5 * torch.log(\n",
    "            torch.diag(\n",
    "                self.softmax(\n",
    "                    positives @ embeddings.T / self.alpha)))\n",
    "        \n",
    "        return torch.mean(first - second)"
   ]
  },
  {
   "cell_type": "code",
   "execution_count": 104,
   "metadata": {},
   "outputs": [],
   "source": [
    "ntextentloss = NTExentLoss()"
   ]
  },
  {
   "cell_type": "code",
   "execution_count": 105,
   "metadata": {},
   "outputs": [],
   "source": [
    "batch = next(iter(train_dataloader))"
   ]
  },
  {
   "cell_type": "code",
   "execution_count": 106,
   "metadata": {},
   "outputs": [],
   "source": []
  },
  {
   "cell_type": "code",
   "execution_count": 107,
   "metadata": {},
   "outputs": [],
   "source": [
    "questions, duplicates = batch\n",
    "\n",
    "embeddings = dssm_like_model(*questions)\n",
    "positives = dssm_like_model(*duplicates)\n",
    "\n",
    "kek = ntextentloss(embeddings, positives)"
   ]
  },
  {
   "cell_type": "code",
   "execution_count": 108,
   "metadata": {},
   "outputs": [],
   "source": [
    "kek = ntextentloss(embeddings, positives)"
   ]
  },
  {
   "cell_type": "code",
   "execution_count": 109,
   "metadata": {},
   "outputs": [
    {
     "data": {
      "text/plain": [
       "tensor(0.2610, grad_fn=<MeanBackward0>)"
      ]
     },
     "execution_count": 109,
     "metadata": {},
     "output_type": "execute_result"
    }
   ],
   "source": [
    "kek"
   ]
  },
  {
   "cell_type": "code",
   "execution_count": 110,
   "metadata": {},
   "outputs": [],
   "source": [
    "kek.backward()"
   ]
  },
  {
   "cell_type": "code",
   "execution_count": 93,
   "metadata": {},
   "outputs": [
    {
     "data": {
      "text/plain": [
       "tensor([[-5.7814e-01, -3.2910e-01,  1.2214e-01, -2.7315e-01,  2.7911e-01,\n",
       "          3.5724e-01,  2.3273e-01, -3.5149e-01, -3.1208e-01,  4.0712e-01,\n",
       "          4.2151e-01, -1.9282e-02,  4.7717e-01, -8.1200e-03,  3.3749e-01,\n",
       "          3.3259e-02,  1.6938e-01,  6.5904e-02,  1.3255e-01, -4.7174e-01,\n",
       "          2.8426e-01,  6.2418e-03,  2.3469e-01, -4.4610e-01, -6.6209e-01,\n",
       "         -2.4592e-01, -6.0601e-01,  4.3676e-02,  3.3026e-01, -5.3128e-01,\n",
       "          9.8086e-02, -1.9704e-01,  8.5561e-01,  1.2403e-01, -2.8603e-01,\n",
       "         -1.4070e-01,  2.6315e-01,  1.7081e-01, -8.9025e-02, -2.9595e-01,\n",
       "          4.7564e-02, -1.4300e-01,  5.3417e-02,  7.7717e-02, -1.0818e-01,\n",
       "          5.5286e-02,  4.2778e-01, -3.9845e-02, -1.6868e-01, -8.3947e-02,\n",
       "          1.1903e-01, -3.7090e-01,  2.2018e-01, -6.5486e-01, -3.8959e-01,\n",
       "         -5.2304e-01, -4.5581e-01,  1.3408e-01, -1.8545e-01, -9.5075e-03,\n",
       "         -1.7248e-01,  6.7849e-01,  3.0996e-01,  1.5305e-01,  2.1919e-01,\n",
       "         -2.2681e-01,  3.7152e-01, -2.2892e-01,  7.3903e-01, -3.0060e-01,\n",
       "         -5.1354e-01, -3.5011e-01, -2.8670e-02,  3.8490e-02, -8.4455e-01,\n",
       "          1.1999e-01, -1.0597e-02,  2.2836e-01,  1.5875e-01, -2.0869e-01,\n",
       "          1.6401e-01, -1.5366e-02, -2.1001e-01, -1.2632e-01, -1.0568e+00,\n",
       "          6.1741e-01,  7.2207e-02,  2.0283e-01,  1.6690e-01, -3.4740e-02,\n",
       "         -9.4008e-02, -1.1445e-01,  1.9634e-01,  1.3544e-01, -3.4712e-01,\n",
       "          4.1918e-01,  2.5215e-01, -3.0451e-01,  1.6007e-02,  4.1105e-02,\n",
       "          4.5653e-01,  2.1582e-01, -1.5230e-01, -3.5476e-01,  1.7334e-01,\n",
       "         -1.8813e-01,  3.5248e-01,  2.1695e-01, -2.0976e-01,  6.7260e-02,\n",
       "         -2.9475e-01, -4.5814e-01, -9.4474e-02, -3.1541e-01, -5.0976e-02,\n",
       "         -6.2841e-01, -2.8244e-01, -1.4338e-01, -6.0596e-01, -7.3046e-02,\n",
       "         -5.8712e-02,  6.5216e-02, -1.6075e-01,  4.2570e-02,  3.2369e-01,\n",
       "         -4.7493e-02, -3.3564e-01,  7.0551e-01, -2.5536e-01, -3.1535e-01,\n",
       "         -3.4457e-01, -3.0462e-01, -2.3470e-01,  2.6658e-01, -4.0292e-01,\n",
       "         -2.7857e-01, -7.6863e-02,  3.2278e-02, -3.5862e-01, -1.8526e-01,\n",
       "          3.9255e-02,  2.9765e-01,  2.5803e-01, -2.0399e-01,  1.7469e-02,\n",
       "         -1.3778e-01,  1.0293e-01, -5.9039e-01, -5.9805e-01,  2.5300e-01,\n",
       "          5.6623e-01,  3.7590e-01, -1.2466e-01, -3.5010e-01,  2.3966e-02,\n",
       "         -1.1691e-01,  6.2177e-01,  7.9943e-03, -2.2464e-01, -2.3216e-01,\n",
       "          1.9283e-01,  2.3314e-01, -6.9147e-01,  2.6740e-01,  5.0581e-02,\n",
       "          9.8574e-02, -1.9897e-01, -1.8830e-01,  5.7813e-01,  4.9500e-01,\n",
       "         -1.8449e-01, -6.0228e-01,  2.0591e-01,  3.4137e-01, -1.3575e-01,\n",
       "          3.0713e-01,  2.0568e-01, -4.6923e-01, -8.3973e-02, -6.2135e-02,\n",
       "         -2.9334e-01, -4.1256e-01,  1.3965e-01,  8.2170e-02, -1.6125e-01,\n",
       "         -2.9762e-01,  1.7733e-01, -3.7120e-01,  2.3490e-01,  6.4934e-01,\n",
       "         -1.4290e-03, -9.2440e-01, -3.5715e-01, -3.3602e-01,  3.2742e-02,\n",
       "          1.6841e-01, -7.5844e-03,  2.4141e-01, -2.9809e-01,  3.4938e-01,\n",
       "          5.8847e-01,  1.6437e-01, -7.8135e-02,  8.4241e-02, -2.6481e-01,\n",
       "         -1.2576e-01,  3.8081e-01,  9.2978e-01, -1.4954e-01, -1.7587e-03,\n",
       "         -4.0833e-01, -3.1958e-01, -2.1963e-01, -7.2408e-02,  1.4130e-01,\n",
       "          5.7647e-01,  7.4067e-02,  3.4023e-01,  9.9284e-02,  1.2688e-01,\n",
       "          1.7029e-01,  5.4062e-02,  2.6260e-01, -2.5176e-01,  3.9538e-01,\n",
       "         -1.0702e-01,  2.4387e-01, -3.0227e-01, -1.7570e-01, -2.5427e-01,\n",
       "         -1.1008e-01, -3.9000e-01,  1.7679e-01,  2.0716e-01, -2.9366e-01,\n",
       "         -7.9354e-01,  3.2762e-01, -5.5306e-01, -2.2176e-01,  4.1475e-01,\n",
       "         -1.4674e-01,  2.1744e-01,  2.1582e-01, -1.8553e-01,  1.9399e-01,\n",
       "          2.5188e-01, -1.0635e+00, -9.9577e-02, -8.8253e-02,  1.0056e-01,\n",
       "         -1.0112e+00,  4.4016e-02,  4.1012e-02, -6.7588e-02, -3.4932e-01,\n",
       "         -2.4420e-01,  7.3547e-02, -1.9043e-01, -5.2041e-02, -1.2837e-01,\n",
       "          2.4212e-01, -3.8119e-01, -1.2189e+00,  1.4180e-01, -6.5698e-02,\n",
       "         -4.0577e-01,  1.2492e-01,  1.1805e-01, -4.7141e-01,  1.1928e-01,\n",
       "          4.0791e-01, -3.3297e-01,  8.8636e-02, -2.6173e-01, -6.3721e-02,\n",
       "          1.4299e-01, -6.1193e-02, -6.4791e-01,  5.4052e-01, -1.8592e-01,\n",
       "         -5.3571e-03, -2.4984e-01, -1.3545e-01,  3.6925e-01,  6.6948e-01,\n",
       "          1.7299e-01,  1.1563e-01, -3.6204e-01,  1.2982e-01,  4.0067e-01,\n",
       "         -3.9581e-02, -4.0367e-01, -3.9153e-01,  2.4143e-01,  1.3942e-01,\n",
       "          6.0758e-01, -7.4423e-01, -2.8556e-01,  6.3897e-02, -3.0073e-01],\n",
       "        [-1.0092e-01,  4.5251e-01,  6.7670e-02,  5.5988e-01, -1.6988e-01,\n",
       "         -1.0068e-02, -1.2840e-01, -3.3822e-01,  1.3717e+00,  7.4487e-02,\n",
       "          7.0106e-01,  1.0070e-01,  3.0849e-02, -1.0219e-01,  6.7959e-03,\n",
       "          1.5670e-01, -2.0154e-01,  9.2339e-02,  2.4318e-01,  8.6779e-01,\n",
       "         -7.4416e-01, -3.0454e-01, -5.7311e-02, -1.9409e-01,  3.0417e-01,\n",
       "         -1.9109e-01, -2.2416e-02, -2.3252e-01,  1.1468e-01, -1.2782e-01,\n",
       "          4.2536e-01,  3.7078e-01, -5.3360e-02, -6.9174e-02,  3.0363e-01,\n",
       "         -5.6517e-02,  2.4477e-01, -3.9860e-01, -3.8889e-01, -3.3470e-01,\n",
       "         -1.0635e+00, -3.5932e-01, -6.4319e-01, -5.8035e-01,  3.4272e-01,\n",
       "          4.0793e-01, -1.0758e-02, -1.8460e-01,  5.2405e-01, -4.7224e-02,\n",
       "          3.4110e-01,  2.9457e-01,  3.5188e-01,  6.5976e-01, -6.0281e-01,\n",
       "         -2.8177e-01,  6.4784e-01,  3.6728e-01,  5.9107e-02,  5.8603e-02,\n",
       "         -8.9311e-01,  7.6849e-01,  2.4353e-01, -4.8494e-01, -2.1315e-01,\n",
       "          3.2822e-01,  1.4396e-01,  2.0646e-01, -2.1731e-01, -7.4607e-01,\n",
       "          2.5690e-01,  1.0106e+00,  2.6748e-01, -5.6215e-01, -3.9776e-01,\n",
       "          1.1121e-01, -3.5526e-01,  3.1263e-01, -1.2975e-01, -4.2226e-01,\n",
       "          1.4437e-01, -8.5801e-02,  1.9396e-02,  3.0425e-01, -7.5823e-01,\n",
       "         -1.0603e+00,  6.7270e-01,  4.5546e-02,  6.7595e-01,  1.2343e-01,\n",
       "         -9.6679e-02,  2.8827e-01, -2.5404e-01,  8.7891e-02, -1.2414e-01,\n",
       "          4.3573e-01, -6.6834e-02, -2.3474e-01, -7.0519e-02,  2.4142e-01,\n",
       "          5.9094e-01,  1.8756e-01, -6.3696e-02, -3.6942e-02,  1.6471e-01,\n",
       "          3.4978e-01,  4.1948e-01,  2.5375e-01, -3.4246e-01,  8.5924e-02,\n",
       "         -2.8929e-01,  2.9518e-01,  1.4437e-01,  7.0292e-01, -1.4287e-01,\n",
       "          3.0856e-02,  3.2125e-01,  1.6014e-01,  7.4123e-01, -8.6807e-01,\n",
       "          3.7993e-01, -1.9834e-01,  3.7897e-01,  5.2024e-01, -3.7797e-01,\n",
       "          1.6129e-01,  5.9017e-01, -4.9636e-01, -2.8760e-01,  1.0173e-01,\n",
       "         -1.0258e+00, -3.4166e-01, -4.3597e-01,  5.0777e-01,  3.1253e-01,\n",
       "          1.6403e-01, -2.6414e-01, -3.6999e-01,  4.0223e-01,  4.6238e-01,\n",
       "          6.9362e-01, -3.4878e-01, -5.4980e-01,  3.2432e-02,  3.7681e-01,\n",
       "         -5.0358e-01, -6.8796e-04, -8.7460e-01,  4.4711e-01, -4.9290e-01,\n",
       "         -4.4268e-01, -9.4658e-01, -1.5666e-01,  2.7448e-01,  5.2784e-01,\n",
       "          1.1844e-01, -5.8455e-01, -2.5834e-01,  2.3174e-01,  2.3118e-01,\n",
       "          3.0336e-01,  4.2163e-01,  2.2717e-01, -3.9424e-01, -2.9831e-01,\n",
       "          2.8394e-02, -3.5130e-01,  7.8140e-02,  2.0195e-01, -1.9614e-01,\n",
       "          5.3654e-02, -9.0981e-01,  4.3545e-01, -3.3588e-01,  7.7999e-01,\n",
       "         -5.7251e-01,  8.9275e-02, -1.6633e-01,  4.7891e-03,  8.4500e-02,\n",
       "          2.0737e-01, -1.7746e-01, -2.9985e-01, -1.4430e-01,  1.5236e-02,\n",
       "         -1.5368e-01,  2.1000e-01, -3.1316e-01,  4.0374e-01, -2.5615e-02,\n",
       "          1.4015e-01, -7.1361e-01, -1.2879e-01,  4.5367e-01, -1.6255e-01,\n",
       "         -1.4628e-01, -1.0072e-01, -2.1706e-02, -6.6456e-02,  2.3688e-01,\n",
       "          2.6652e-03,  6.5434e-01,  2.3936e-01, -1.4710e-01, -3.3439e-01,\n",
       "          2.5885e-01, -4.1568e-01, -1.6455e-01,  1.4896e-01,  3.0128e-01,\n",
       "         -2.9310e-01, -5.0597e-01, -3.5219e-01, -3.9927e-01, -5.7857e-02,\n",
       "          4.3284e-01, -4.4803e-01,  1.3756e-01,  2.1728e-01,  4.4663e-01,\n",
       "          1.3723e+00, -2.6981e-01,  3.1509e-01, -1.1898e-01,  3.9067e-02,\n",
       "         -3.0674e-01, -4.9605e-01,  3.0959e-01,  7.5768e-01, -3.1238e-01,\n",
       "          9.5510e-01, -1.8232e-01,  5.0129e-01,  6.7848e-02,  3.7950e-01,\n",
       "         -4.4363e-01, -6.0242e-01,  9.1021e-01, -4.3221e-01,  1.5414e-01,\n",
       "         -2.5942e-01, -1.4809e-01, -7.4750e-01,  2.4151e-01,  4.8180e-01,\n",
       "          3.3887e-02, -6.6429e-01,  5.7040e-01, -5.5424e-01,  8.0088e-02,\n",
       "          4.3245e-01,  4.8275e-01, -5.9952e-01, -4.3260e-02, -3.8408e-03,\n",
       "         -5.9699e-03,  2.4918e-01, -7.6603e-01, -1.0538e+00,  5.8113e-02,\n",
       "         -3.5085e-01, -5.0941e-01,  6.1354e-01,  5.6312e-02, -1.7644e-01,\n",
       "          5.8839e-02,  1.1212e-01,  6.3301e-01,  8.6776e-02, -1.1067e-01,\n",
       "          4.2706e-02, -2.7683e-01, -2.7940e-01, -4.1915e-01, -5.4706e-02,\n",
       "         -1.9499e-02,  5.3287e-01, -7.8836e-02, -9.2660e-02, -5.4693e-01,\n",
       "         -5.6862e-01,  4.9464e-02,  3.0427e-01,  7.2069e-01,  3.5558e-01,\n",
       "          8.4650e-02,  4.4611e-01, -6.0216e-01, -1.4013e-01,  2.6983e-02,\n",
       "         -4.2737e-01,  4.5220e-02,  3.5841e-01, -1.0659e-01, -1.9592e-02,\n",
       "          1.5957e-01, -5.2188e-02, -2.7601e-01,  3.7051e-01, -6.6397e-01]],\n",
       "       grad_fn=<EmbeddingBagBackward>)"
      ]
     },
     "execution_count": 93,
     "metadata": {},
     "output_type": "execute_result"
    }
   ],
   "source": [
    "positives"
   ]
  },
  {
   "cell_type": "code",
   "execution_count": null,
   "metadata": {},
   "outputs": [],
   "source": []
  },
  {
   "cell_type": "code",
   "execution_count": null,
   "metadata": {},
   "outputs": [],
   "source": []
  },
  {
   "cell_type": "code",
   "execution_count": null,
   "metadata": {},
   "outputs": [],
   "source": []
  },
  {
   "cell_type": "code",
   "execution_count": 51,
   "metadata": {},
   "outputs": [],
   "source": [
    "from torch.nn.functional import normalize"
   ]
  },
  {
   "cell_type": "code",
   "execution_count": 67,
   "metadata": {},
   "outputs": [
    {
     "data": {
      "text/plain": [
       "tensor([[0.7071, 0.5547, 0.6000],\n",
       "        [0.7071, 0.8321, 0.8000]])"
      ]
     },
     "execution_count": 67,
     "metadata": {},
     "output_type": "execute_result"
    }
   ],
   "source": [
    "normalize(tens, dim=0)"
   ]
  },
  {
   "cell_type": "code",
   "execution_count": 73,
   "metadata": {},
   "outputs": [
    {
     "data": {
      "text/plain": [
       "tensor([[0.5000, 0.2689],\n",
       "        [0.5000, 0.7311]])"
      ]
     },
     "execution_count": 73,
     "metadata": {},
     "output_type": "execute_result"
    }
   ],
   "source": [
    "nn.Softmax(dim=0)(tens)"
   ]
  },
  {
   "cell_type": "code",
   "execution_count": 72,
   "metadata": {},
   "outputs": [],
   "source": [
    "tens = torch.FloatTensor([[1,2,], [1,3,] ])"
   ]
  },
  {
   "cell_type": "code",
   "execution_count": 80,
   "metadata": {},
   "outputs": [
    {
     "data": {
      "text/plain": [
       "tensor([0.0000, 1.0986])"
      ]
     },
     "execution_count": 80,
     "metadata": {},
     "output_type": "execute_result"
    }
   ],
   "source": [
    "torch.log(torch.diag(tens))"
   ]
  },
  {
   "cell_type": "code",
   "execution_count": 77,
   "metadata": {},
   "outputs": [
    {
     "data": {
      "text/plain": [
       "tensor([[0.5000, 0.5000],\n",
       "        [1.0000, 1.5000]])"
      ]
     },
     "execution_count": 77,
     "metadata": {},
     "output_type": "execute_result"
    }
   ],
   "source": [
    "tens.T / 2"
   ]
  },
  {
   "cell_type": "code",
   "execution_count": 74,
   "metadata": {},
   "outputs": [
    {
     "data": {
      "text/plain": [
       "tensor([[ 3.,  8.],\n",
       "        [ 4., 11.]])"
      ]
     },
     "execution_count": 74,
     "metadata": {},
     "output_type": "execute_result"
    }
   ],
   "source": [
    "tens @ tens"
   ]
  },
  {
   "cell_type": "markdown",
   "metadata": {},
   "source": [
    "**Создайте пайплайн** для обучения и валидации, используя предложенный шаблон.\n",
    "\n",
    "Залогируйте с помощью **torch.utils.tensorboard.SummaryWriter** две величины:\n",
    "1. Лосс для каждого батча\n",
    "2. Лосс на валидации для каждой эпохи"
   ]
  },
  {
   "cell_type": "code",
   "execution_count": 112,
   "metadata": {},
   "outputs": [],
   "source": [
    "EMBEDDING_DIM = 300\n",
    "N_EPOCHS = 20\n",
    "LR = 0.01\n",
    "logdir = \"./logs/\"\n",
    "device = None\n",
    "\n",
    "model = DssmLikeModel(text_tokenizer.vocab_size, EMBEDDING_DIM)\n",
    "criterion = NTExentLoss()\n",
    "optimizer = torch.optim.Adam(model.parameters(), lr=LR)"
   ]
  },
  {
   "cell_type": "code",
   "execution_count": 116,
   "metadata": {},
   "outputs": [
    {
     "data": {
      "text/plain": [
       "DssmLikeModel(\n",
       "  (embedding_bag): EmbeddingBag(132383, 300, mode=mean)\n",
       ")"
      ]
     },
     "execution_count": 116,
     "metadata": {},
     "output_type": "execute_result"
    }
   ],
   "source": [
    "model.train()"
   ]
  },
  {
   "cell_type": "code",
   "execution_count": 118,
   "metadata": {},
   "outputs": [],
   "source": [
    "trainer = Trainer(model, optimizer, criterion, logdir, device)"
   ]
  },
  {
   "cell_type": "code",
   "execution_count": 119,
   "metadata": {},
   "outputs": [],
   "source": [
    "dataloaders = {\n",
    "    \"train\": train_dataloader,\n",
    "    \"eval\": validation_dataloader\n",
    "}"
   ]
  },
  {
   "cell_type": "code",
   "execution_count": null,
   "metadata": {},
   "outputs": [],
   "source": [
    "trainer.train(dataloaders, N_EPOCHS, verbose=True)"
   ]
  },
  {
   "cell_type": "code",
   "execution_count": null,
   "metadata": {},
   "outputs": [],
   "source": []
  },
  {
   "cell_type": "code",
   "execution_count": 117,
   "metadata": {},
   "outputs": [],
   "source": [
    "import time\n",
    "import shutil\n",
    "import os\n",
    "import torch\n",
    "\n",
    "from torch.utils.tensorboard import SummaryWriter\n",
    "    \n",
    "    \n",
    "class Trainer:\n",
    "    \n",
    "    def __init__(\n",
    "            self, \n",
    "            model, \n",
    "            optimizer, \n",
    "            criterion, \n",
    "            logdir=None, \n",
    "            device=None\n",
    "    ):\n",
    "        \"\"\"\n",
    "            model: объект класса DssmModel\n",
    "            optimizer: оптимизатор\n",
    "            criterion: критерий оптимизации\n",
    "            logdir: директория, в которую SummaryWriter должен писать логи\n",
    "            device: девайс (cpu или cuda), на котором надо производить вычисления\n",
    "        \"\"\"\n",
    "        self.model = model\n",
    "        self.optimizer = optimizer\n",
    "        self.criterion = criterion\n",
    "        self.logdir = logdir\n",
    "        self.device = device\n",
    "    \n",
    "    def _calculate_loss(self, batch):\n",
    "        \"\"\"\n",
    "            batch: батч из индексов и сдвигов для вопросов и их дубликатов\n",
    "            \n",
    "            returns: посчитанный для батча лосс\n",
    "        \"\"\"\n",
    "        questions, duplicates = batch\n",
    "\n",
    "        embeddings = self.model(*questions)\n",
    "        positives = self.model(*duplicates)\n",
    "\n",
    "        loss = self.criterion(embeddings, positives)\n",
    "        return loss\n",
    "    \n",
    "    def _train_step(self, dataloader):\n",
    "        \"\"\"\n",
    "            dataloader: даталоадер для обучения\n",
    "            \n",
    "            returns: лосс на датасете для обучения\n",
    "        \"\"\"\n",
    "        self.model.train()\n",
    "        epoch_loss = 0.0\n",
    "        \n",
    "        for batch in dataloader:\n",
    "            self.optimizer.zero_grad()\n",
    "            \n",
    "            loss = self._calculate_loss(batch)\n",
    "            loss.backward()\n",
    "            self.optimizer.step()\n",
    "            \n",
    "            epoch_loss += loss\n",
    "            \n",
    "        return epoch_loss / len(dataloader)\n",
    "    \n",
    "    def _eval_step(self, dataloader):\n",
    "        \"\"\"\n",
    "            dataloader: даталоадер для валидации\n",
    "            \n",
    "            returns: лосс на валидации\n",
    "        \"\"\"\n",
    "        self.model.eval()\n",
    "        \n",
    "        epoch_loss = 0.0\n",
    "        \n",
    "        with torch.no_grad():\n",
    "            for batch in dataloader:\n",
    "                loss = self._calculate_loss(batch)\n",
    "                epoch_loss += loss\n",
    "            \n",
    "        return epoch_loss / len(dataloader)\n",
    "    \n",
    "    def train(self, dataloaders, n_epochs, verbose=False):\n",
    "        \"\"\"\n",
    "            dataloaders: словарь вида {'train': train_dataloader, 'eval': eval_dataloader}\n",
    "            n_epochs: количество эпох обучения\n",
    "            verbose: нужно ли выводить каждую эпоху информацию про лоссы\n",
    "        \"\"\"\n",
    "        start = time.time()\n",
    "        for epoch in range(n_epochs):\n",
    "            train_loss = self._train_step(dataloaders['train'])\n",
    "            \n",
    "            eval_loss = self._eval_step(dataloaders['eval'])\n",
    "            if self._writer is not None:\n",
    "                self._writer.add_scalar('eval/loss', eval_loss, global_step=self._n_epoch)\n",
    "                \n",
    "            if verbose:\n",
    "                print(\n",
    "                    'epoch: {:>2}, train loss: {:.4f}, eval loss: {:.4f}, time: {:.4f}' \\\n",
    "                        .format(epoch + 1, train_loss, eval_loss, time.time() - start)\n",
    "                )\n",
    "                    \n",
    "            self._n_epoch += 1"
   ]
  },
  {
   "cell_type": "markdown",
   "metadata": {},
   "source": [
    "Предлагается использовать для оптимизации Адам и обучать модель 10-60 эпох.\n",
    "\n",
    "Для этой части задания GPU даёт существенное ускорение при обучении, поэтому стоит по возможности делать обучение с большим batch size'ом и на GPU."
   ]
  },
  {
   "cell_type": "code",
   "execution_count": null,
   "metadata": {},
   "outputs": [],
   "source": [
    "###########################\n",
    "### ╰( ͡° ͜ʖ ͡° )つ──☆*:・ﾟ\n",
    "###########################"
   ]
  },
  {
   "cell_type": "markdown",
   "metadata": {},
   "source": [
    "Осталось достать из модели обученные под задачу векторы слов, составить маппинг слов в векторы, создать **Embedder** и **Scorer** и провалидировать качество на нашей исходной валидации, которой мы пользовались в первых двух частях.\n",
    "\n",
    "Чтобы достать из модели веса, можно использовать `model._embeddings.weight.cpu().detach().numpy()`"
   ]
  },
  {
   "cell_type": "code",
   "execution_count": null,
   "metadata": {},
   "outputs": [],
   "source": [
    "###########################\n",
    "### ╰( ͡° ͜ʖ ͡° )つ──☆*:・ﾟ\n",
    "###########################"
   ]
  },
  {
   "cell_type": "markdown",
   "metadata": {},
   "source": [
    "Одним из критериев получения полных баллов является значение метрики **hits@500** $\\geqslant 0.98$."
   ]
  }
 ],
 "metadata": {
  "kernelspec": {
   "display_name": "Python 3",
   "language": "python",
   "name": "python3"
  },
  "language_info": {
   "codemirror_mode": {
    "name": "ipython",
    "version": 3
   },
   "file_extension": ".py",
   "mimetype": "text/x-python",
   "name": "python",
   "nbconvert_exporter": "python",
   "pygments_lexer": "ipython3",
   "version": "3.9.7"
  },
  "toc": {
   "base_numbering": 1,
   "nav_menu": {},
   "number_sections": true,
   "sideBar": true,
   "skip_h1_title": false,
   "title_cell": "Table of Contents",
   "title_sidebar": "Contents",
   "toc_cell": false,
   "toc_position": {
    "height": "calc(100% - 180px)",
    "left": "10px",
    "top": "150px",
    "width": "363.366px"
   },
   "toc_section_display": true,
   "toc_window_display": false
  }
 },
 "nbformat": 4,
 "nbformat_minor": 4
}
